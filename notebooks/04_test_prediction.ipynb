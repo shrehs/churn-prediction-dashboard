{
 "cells": [
  {
   "cell_type": "markdown",
   "id": "5f0f4ea0",
   "metadata": {},
   "source": [
    "### 1. Imports"
   ]
  },
  {
   "cell_type": "code",
   "execution_count": 1,
   "id": "282b50e5",
   "metadata": {},
   "outputs": [],
   "source": [
    "import numpy as np\n",
    "import pandas as pd\n",
    "import joblib\n",
    "import os"
   ]
  },
  {
   "cell_type": "markdown",
   "id": "81e07ea1",
   "metadata": {},
   "source": [
    "### Load the Test Data"
   ]
  },
  {
   "cell_type": "code",
   "execution_count": 14,
   "id": "5469f2a5",
   "metadata": {},
   "outputs": [],
   "source": [
    "# Paths\n",
    "MODEL_PATH = \"../models/final_model_lgbm.pkl\"\n",
    "X_TEST_PATH = \"../output/X_test.npy\"\n",
    "ID_PATH = \"../output/test_ids.csv\"\n",
    "OUTPUT_PATH = \"../output/churn_predictions.csv\"\n",
    "\n",
    "# Load test data\n",
    "X_test = np.load(X_TEST_PATH)\n",
    "test_ids = pd.read_csv(ID_PATH)\n",
    "\n",
    "# Load trained model\n",
    "model = joblib.load(MODEL_PATH)"
   ]
  },
  {
   "cell_type": "markdown",
   "id": "75657e66",
   "metadata": {},
   "source": [
    "### Predict probabilities or labels"
   ]
  },
  {
   "cell_type": "code",
   "execution_count": 15,
   "id": "e54a45e9",
   "metadata": {},
   "outputs": [
    {
     "name": "stderr",
     "output_type": "stream",
     "text": [
      "d:\\GLT Amazon ML summer school proj\\Week 1\\venv\\Lib\\site-packages\\sklearn\\utils\\validation.py:2749: UserWarning: X does not have valid feature names, but LGBMClassifier was fitted with feature names\n",
      "  warnings.warn(\n"
     ]
    },
    {
     "name": "stdout",
     "output_type": "stream",
     "text": [
      "[LightGBM] [Warning] feature_fraction is set=0.9933059627875545, colsample_bytree=1.0 will be ignored. Current value: feature_fraction=0.9933059627875545\n",
      "[LightGBM] [Warning] lambda_l1 is set=2.676592466136273, reg_alpha=0.0 will be ignored. Current value: lambda_l1=2.676592466136273\n",
      "[LightGBM] [Warning] lambda_l2 is set=0.22473163876908597, reg_lambda=0.0 will be ignored. Current value: lambda_l2=0.22473163876908597\n",
      "[LightGBM] [Warning] bagging_fraction is set=0.6525159443194917, subsample=1.0 will be ignored. Current value: bagging_fraction=0.6525159443194917\n",
      "[LightGBM] [Warning] bagging_freq is set=1, subsample_freq=0 will be ignored. Current value: bagging_freq=1\n"
     ]
    }
   ],
   "source": [
    "# Predict churn (binary classification - get class 0 or 1)\n",
    "y_pred = model.predict(X_test)"
   ]
  },
  {
   "cell_type": "code",
   "execution_count": 16,
   "id": "b6357ba3",
   "metadata": {},
   "outputs": [],
   "source": [
    "# Combine predictions with CustomerID\n",
    "results_df = test_ids.copy()\n",
    "results_df[\"Churn\"] = y_pred"
   ]
  },
  {
   "cell_type": "code",
   "execution_count": 17,
   "id": "ebdffa79",
   "metadata": {},
   "outputs": [
    {
     "name": "stdout",
     "output_type": "stream",
     "text": [
      "Churn predictions saved to: ../output/churn_predictions.csv\n"
     ]
    }
   ],
   "source": [
    "import os\n",
    "\n",
    "os.makedirs(\"../output\", exist_ok=True)\n",
    "results_df.to_csv(OUTPUT_PATH, index=False)\n",
    "print(\"Churn predictions saved to:\", OUTPUT_PATH)"
   ]
  },
  {
   "cell_type": "code",
   "execution_count": null,
   "id": "dab020cb",
   "metadata": {},
   "outputs": [],
   "source": []
  }
 ],
 "metadata": {
  "kernelspec": {
   "display_name": "venv",
   "language": "python",
   "name": "python3"
  },
  "language_info": {
   "codemirror_mode": {
    "name": "ipython",
    "version": 3
   },
   "file_extension": ".py",
   "mimetype": "text/x-python",
   "name": "python",
   "nbconvert_exporter": "python",
   "pygments_lexer": "ipython3",
   "version": "3.13.2"
  }
 },
 "nbformat": 4,
 "nbformat_minor": 5
}
